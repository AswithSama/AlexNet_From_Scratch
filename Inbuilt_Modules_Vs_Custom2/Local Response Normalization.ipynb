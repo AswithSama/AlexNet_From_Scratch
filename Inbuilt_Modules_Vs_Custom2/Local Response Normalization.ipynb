{
 "cells": [
  {
   "cell_type": "markdown",
   "metadata": {},
   "source": [
    "## Explanation of the Code\n",
    "### Class Initialization:\n",
    "\n",
    "- The __init__ method initializes the parameters:\n",
    "- depth_radius: The number of neighboring channels on each side of the current channel to include in the normalization window. A radius of 5, for example, covers 2 channels on each side, plus the central channel, resulting in a window  size of 5.\n",
    "- bias: A constant added to the normalization term to prevent division by zero.\n",
    "- alpha: A scaling factor applied to the local sum of squared values.\n",
    "- beta: The exponent applied to the normalization term.\n",
    "### Forward Pass (Normalization):\n",
    "\n",
    "- Input Shape: This implementation expects input in the shape (batch_size, channels, height, width), which is standard for convolutional outputs.\n",
    "- Normalization Process: For each batch item and each channel:\n",
    "- It calculates the start and end indices of the channels in the window, based on the depth_radius parameter.\n",
    "- It computes the sum of squares of inputs within this window to form the normalization term.\n",
    "- Finally, the normalized output is calculated by dividing each input by this normalization term, raised to the power of beta.\n",
    "- Output Shape: The output is in the same shape as the input.\n",
    "### Example Usage:\n",
    "\n",
    "- Instantiate the custom_LocalResponseNormalization class and apply it to input X using forward(X).\n",
    "- This allows LocalResponseNormalization to be applied to a sample input batch, yielding an output that highlights the effect of normalization across channels.\n",
    "### Key Differences from TensorFlow's tf.nn.local_response_normalization and PyTorch's nn.LocalResponseNorm\n",
    "- Custom Parameters: This code allows setting custom depth_radius, bias, alpha, and beta, similar to TensorFlow and PyTorch, but it’s implemented from scratch.\n",
    "- Parameter Values: You can adjust the depth_radius, alpha, beta, and bias based on specific requirements or layer settings in your model.\n",
    "- Manual Channel Normalization: Unlike built-in implementations that handle parallelized operations, this custom code iterates manually over batches and channels, which may affect efficiency.\n"
   ]
  },
  {
   "cell_type": "markdown",
   "metadata": {},
   "source": [
    "## INBUILT LRN"
   ]
  },
  {
   "cell_type": "code",
   "execution_count": 12,
   "metadata": {},
   "outputs": [
    {
     "data": {
      "text/plain": [
       "<tf.Tensor: shape=(), dtype=float32, numpy=0.04559753090143204>"
      ]
     },
     "execution_count": 12,
     "metadata": {},
     "output_type": "execute_result"
    }
   ],
   "source": [
    "import tensorflow as tf\n",
    "\n",
    "# Sample input tensor\n",
    "X = tf.random.normal([1,96,55,55])\n",
    "\n",
    "# Apply Local Response Normalization\n",
    "depth_radius = 5\n",
    "bias = 1.0\n",
    "alpha = 1e-4\n",
    "beta = 0.75\n",
    "\n",
    "lrn_output = tf.nn.local_response_normalization(X, depth_radius=depth_radius, bias=bias, alpha=alpha, beta=beta)\n",
    "lrn_output[0,0,1,1]"
   ]
  },
  {
   "cell_type": "markdown",
   "metadata": {},
   "source": [
    "## CUSTOM LRN"
   ]
  },
  {
   "cell_type": "code",
   "execution_count": 13,
   "metadata": {},
   "outputs": [
    {
     "data": {
      "text/plain": [
       "0.04560225"
      ]
     },
     "execution_count": 13,
     "metadata": {},
     "output_type": "execute_result"
    }
   ],
   "source": [
    "import numpy as np\n",
    "\n",
    "class custom_LocalResponseNormalization:\n",
    "    def __init__(self, depth_radius=5, bias=1.0, alpha=1e-4, beta=0.75):\n",
    "        \"\"\"\n",
    "        Initializes the LocalResponseNormalization layer.\n",
    "\n",
    "        Parameters:\n",
    "        - depth_radius (int): Number of neighboring channels for normalization.\n",
    "        - bias (float): Added to the normalization term to avoid division by zero.\n",
    "        - alpha (float): Scaling parameter.\n",
    "        - beta (float): Exponent for normalization.\n",
    "        \"\"\"\n",
    "        self.depth_radius = depth_radius\n",
    "        self.bias = bias\n",
    "        self.alpha = alpha\n",
    "        self.beta = beta\n",
    "\n",
    "    def forward(self, X):\n",
    "        \"\"\"\n",
    "        Applies local response normalization to the input data.\n",
    "\n",
    "        Parameters:\n",
    "        - X (np.array): Input data with shape (batch_size, channels, height, width).\n",
    "\n",
    "        Returns:\n",
    "        - np.array: The normalized data.\n",
    "        \"\"\"\n",
    "        N, C, H, W = X.shape  # batch size, channels, height, width\n",
    "        squared_input = np.square(X)\n",
    "        output = np.zeros_like(X)\n",
    "\n",
    "        for n in range(N):  # Iterate over batch size\n",
    "            for c in range(C):  # Iterate over channels\n",
    "                # Define the start and end of the depth radius range\n",
    "                start = max(0, c - self.depth_radius // 2)\n",
    "                end = min(C, c + self.depth_radius // 2 + 1)\n",
    "\n",
    "                # Sum the square of inputs within the local region\n",
    "                local_sum = np.sum(squared_input[n, start:end, :, :], axis=0)\n",
    "                \n",
    "                # Apply LRN formula\n",
    "                scale = self.bias + (self.alpha * local_sum)\n",
    "                output[n, c, :, :] = X[n, c, :, :] / (scale ** self.beta)\n",
    "\n",
    "        return output\n",
    "\n",
    "lrn=custom_LocalResponseNormalization()\n",
    "lrn_output=lrn.forward(X)\n",
    "lrn_output[0,0,1,1]\n"
   ]
  }
 ],
 "metadata": {
  "kernelspec": {
   "display_name": "Python 3",
   "language": "python",
   "name": "python3"
  },
  "language_info": {
   "codemirror_mode": {
    "name": "ipython",
    "version": 3
   },
   "file_extension": ".py",
   "mimetype": "text/x-python",
   "name": "python",
   "nbconvert_exporter": "python",
   "pygments_lexer": "ipython3",
   "version": "3.12.4"
  }
 },
 "nbformat": 4,
 "nbformat_minor": 2
}
